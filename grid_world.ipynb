{
 "cells": [
  {
   "cell_type": "code",
   "execution_count": 1,
   "id": "9f07b832",
   "metadata": {},
   "outputs": [],
   "source": [
    "import numpy as np\n",
    "import gymnasium as gym\n",
    "import simple_grid_world\n",
    "import matplotlib.pyplot as plt\n",
    "from gymnasium.wrappers import FlattenObservation\n",
    "\n",
    "from collections import defaultdict"
   ]
  },
  {
   "cell_type": "markdown",
   "id": "9acafe86",
   "metadata": {},
   "source": [
    "# Make GridWorld Env"
   ]
  },
  {
   "cell_type": "code",
   "execution_count": 2,
   "id": "15f6f2da",
   "metadata": {},
   "outputs": [
    {
     "data": {
      "text/plain": [
       "(array([12,  7]),\n",
       " array([[17,  4],\n",
       "        [12, 18],\n",
       "        [ 2, 14]]))"
      ]
     },
     "execution_count": 2,
     "metadata": {},
     "output_type": "execute_result"
    }
   ],
   "source": [
    "### Environment setting ###\n",
    "env = gym.make(\n",
    "    'simple_grid_world/GridWorld-v0', \n",
    "    render_mode=\"human\", \n",
    "#     agent_location=[3,0], \n",
    "#     target_location=[[14,3], [5, 23]], \n",
    "    target_location=3,\n",
    "    row=20, col=25, \n",
    "    step_reward=-1, \n",
    "    term_reward=-1\n",
    ")\n",
    "obs, info = env.reset()\n",
    "obs"
   ]
  },
  {
   "cell_type": "markdown",
   "id": "aec48260",
   "metadata": {},
   "source": [
    "# Build Policy Iteration"
   ]
  },
  {
   "cell_type": "code",
   "execution_count": 3,
   "id": "9b3528a3",
   "metadata": {},
   "outputs": [],
   "source": [
    "class PolicyIteration:\n",
    "    def __init__(\n",
    "        self, \n",
    "        policy: np.ndarray = np.random.randint(low=0, high=env.action_space.n, size=(env.row, env.col), dtype=int), \n",
    "        threshold: float = 30, \n",
    "        discount_factor: float = 1.0,\n",
    "    ):\n",
    "        self.policy: np.ndarray = policy\n",
    "        self.threshold: float = threshold\n",
    "        self.discount_factor: float = discount_factor\n",
    "        \n",
    "        self.state_values: np.ndarray = np.zeros(shape=(env.row, env.col), dtype=float)\n",
    "        \n",
    "        self.errors: list[float] = []\n",
    "        \n",
    "        self._action_to_direction = {\n",
    "            0: np.array([0, 1]),\n",
    "            1: np.array([-1, 0]),\n",
    "            2: np.array([0, -1]),\n",
    "            3: np.array([1, 0]),\n",
    "        }\n",
    "        \n",
    "    def get_value(self, agent: np.ndarray) -> float:\n",
    "        return self.state_values[tuple(agent)]\n",
    "    \n",
    "    def get_values(self) -> np.ndarray:\n",
    "        return self.state_values\n",
    "    \n",
    "    def get_policy(self) -> np.ndarray:\n",
    "        return self.policy\n",
    "    \n",
    "    def get_action(self, agent: np.ndarray) -> int:\n",
    "        return self.policy[tuple(agent)]\n",
    "    \n",
    "    def check_bound(self, agent, action):\n",
    "        next_agent, reward = self.step(agent, action)\n",
    "        return reward != None\n",
    "        \n",
    "    def step(self, agent: np.ndarray, action: int) -> (np.ndarray, float):\n",
    "        next_agent = np.clip(\n",
    "            agent + self._action_to_direction[action], np.array([0, 0]), np.array([env.row - 1, env.col - 1])\n",
    "        )\n",
    "        # 그리드 밖: 무효\n",
    "        if np.array_equal(next_agent, agent):\n",
    "            return agent, None\n",
    "        \n",
    "        # next_agent가 terminal state인지 체크\n",
    "        terminated = any(np.array_equal(agent, target) for target in env.init_target)\n",
    "        reward = env.term_reward if terminated else env.step_reward\n",
    "        \n",
    "        return next_agent, reward\n",
    "        \n",
    "    def evaluation(self):\n",
    "        x, y = np.meshgrid(range(env.row), range(env.col))\n",
    "        agent_space = np.dstack([x, y]).reshape(-1,2)\n",
    "        while True:\n",
    "            old_values = self.state_values.copy()\n",
    "            # state space 전체 돌기\n",
    "            for agent in agent_space:\n",
    "                # terminal state check\n",
    "                terminal = any(np.array_equal(agent, target) for target in env.init_target)\n",
    "                if terminal:\n",
    "                    continue\n",
    "                    \n",
    "                # deterministic policy\n",
    "                action = self.get_action(agent)\n",
    "                self.state_values[tuple(agent)] = self._calc_q(agent, action)\n",
    "                \n",
    "            # state space 도는 동안에 가장 큰 에러 갱신\n",
    "            error = np.max(abs(old_values - self.state_values))\n",
    "                \n",
    "            # state space 한 번 돌 때마다 에러 저장\n",
    "            self.errors.append(error)\n",
    "            # error가 임계 미만 -> 종료\n",
    "            if error < self.threshold:\n",
    "                break\n",
    "                \n",
    "    def _calc_q(self, agent: np.ndarray, action: int) -> float:\n",
    "        next_agent, reward = self.step(agent, action)\n",
    "        return (\n",
    "            reward + self.discount_factor * self.get_value(next_agent)\n",
    "            if self.check_bound(agent, action)  # 그리드 안\n",
    "            else 0.0\n",
    "        )\n",
    "    \n",
    "    def improvement(self):\n",
    "        policy_stable = True\n",
    "        x, y = np.meshgrid(range(env.row), range(env.col))\n",
    "        agent_space = np.dstack([x, y]).reshape(-1,2)\n",
    "        for agent in agent_space:\n",
    "            # terminal state check\n",
    "            terminal = any(np.array_equal(agent, target) for target in env.init_target)\n",
    "            if terminal:\n",
    "                continue\n",
    "                \n",
    "            old_action = self.get_action(agent)\n",
    "            # 모든 액션 돌기\n",
    "            q_values = np.zeros(env.action_space.n)\n",
    "            for action in range(env.action_space.n):\n",
    "                q_values[action] = (\n",
    "                    self._calc_q(agent, action)\n",
    "                    if self.check_bound(agent, action)  # 그리드 안\n",
    "                    else -np.inf\n",
    "                )\n",
    "            # greedy policy w.r.t q_values\n",
    "            self.policy[tuple(agent)] = np.argmax(q_values)\n",
    "            # greedy update 이루어졌다면\n",
    "            if old_action != self.get_action(agent):\n",
    "                policy_stable = False\n",
    "        if policy_stable:\n",
    "            return self.get_values(), self.get_policy()\n",
    "        else:\n",
    "            return False\n",
    "    \n",
    "    def iteration(self):\n",
    "        self.evaluation()\n",
    "        while True:\n",
    "            result = self.improvement()\n",
    "            if result == False:\n",
    "                self.evaluation()\n",
    "            else:\n",
    "                return result"
   ]
  },
  {
   "cell_type": "markdown",
   "id": "ccac0036",
   "metadata": {},
   "source": [
    "# Train Policy Iteration"
   ]
  },
  {
   "cell_type": "code",
   "execution_count": 12,
   "id": "37d6e893",
   "metadata": {},
   "outputs": [],
   "source": [
    "### hyper parameters ###\n",
    "threshold = 50\n",
    "discount_factor = 1.0\n",
    "\n",
    "agent = PolicyIteration(threshold=threshold, discount_factor=discount_factor)"
   ]
  },
  {
   "cell_type": "code",
   "execution_count": 13,
   "id": "4bcac790",
   "metadata": {},
   "outputs": [
    {
     "data": {
      "text/plain": [
       "(array([[-26., -25., -24., ..., -20., -21., -22.],\n",
       "        [-25., -24., -23., ..., -19., -20., -21.],\n",
       "        [-24., -23., -22., ..., -18., -19., -20.],\n",
       "        ...,\n",
       "        [-22., -21., -20., ..., -24., -25., -26.],\n",
       "        [-23., -22., -21., ..., -25., -26., -27.],\n",
       "        [-24., -23., -22., ..., -26., -27., -28.]]),\n",
       " array([[0, 0, 0, ..., 2, 2, 2],\n",
       "        [0, 0, 0, ..., 2, 2, 2],\n",
       "        [0, 0, 0, ..., 2, 2, 2],\n",
       "        ...,\n",
       "        [0, 0, 0, ..., 1, 1, 1],\n",
       "        [0, 0, 0, ..., 1, 1, 1],\n",
       "        [0, 0, 0, ..., 1, 1, 1]]))"
      ]
     },
     "execution_count": 13,
     "metadata": {},
     "output_type": "execute_result"
    }
   ],
   "source": [
    "agent.iteration()"
   ]
  },
  {
   "cell_type": "markdown",
   "id": "5fb4c09d",
   "metadata": {},
   "source": [
    "# Visualizing training"
   ]
  },
  {
   "cell_type": "code",
   "execution_count": 14,
   "id": "51894e98",
   "metadata": {
    "scrolled": false
   },
   "outputs": [
    {
     "data": {
      "text/plain": [
       "Text(0.5, 1.0, 'Evaluation Error')"
      ]
     },
     "execution_count": 14,
     "metadata": {},
     "output_type": "execute_result"
    },
    {
     "data": {
      "image/png": "[encoded data removed]",
      "text/plain": [
       "<Figure size 640x480 with 1 Axes>"
      ]
     },
     "metadata": {
      "image/png": {
       "height": 434,
       "width": 543
      }
     },
     "output_type": "display_data"
    }
   ],
   "source": [
    "plt.plot(range(len(agent.errors)), agent.errors)\n",
    "plt.title(\"Evaluation Error\")"
   ]
  },
  {
   "cell_type": "markdown",
   "id": "be655e8d",
   "metadata": {},
   "source": [
    "# Visualizing play"
   ]
  },
  {
   "cell_type": "code",
   "execution_count": 38,
   "id": "89b39ea6",
   "metadata": {},
   "outputs": [],
   "source": [
    "obs, info = env.reset()\n",
    "done = False\n",
    "while not done:\n",
    "    action = agent.get_action(obs[0])\n",
    "    next_obs, reward, terminated, truncated, info = env.step(action)\n",
    "    done = terminated or truncated\n",
    "    obs = next_obs"
   ]
  }
 ],
 "metadata": {
  "kernelspec": {
   "display_name": "Python 3 (ipykernel)",
   "language": "python",
   "name": "python3"
  },
  "language_info": {
   "codemirror_mode": {
    "name": "ipython",
    "version": 3
   },
   "file_extension": ".py",
   "mimetype": "text/x-python",
   "name": "python",
   "nbconvert_exporter": "python",
   "pygments_lexer": "ipython3",
   "version": "3.9.16"
  }
 },
 "nbformat": 4,
 "nbformat_minor": 5
}
